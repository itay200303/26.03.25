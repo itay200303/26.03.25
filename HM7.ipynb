{
 "cells": [
  {
   "cell_type": "code",
   "execution_count": 1,
   "id": "a4d80744-bb93-47fb-990b-09a99c4fc078",
   "metadata": {},
   "outputs": [],
   "source": [
    "import numpy as np\n",
    "from IPython.display import display\n",
    "import pandas as pd"
   ]
  },
  {
   "cell_type": "code",
   "execution_count": 5,
   "id": "a048a367-c5d8-434c-8099-47ce587c7009",
   "metadata": {},
   "outputs": [],
   "source": [
    "df = pd.DataFrame({\n",
    "    'A': [None, 2, 3, None, 5],\n",
    "    'B': [10, None, None, 40, 50],\n",
    "    'C': [100, None, 300, 400, None]\n",
    "})"
   ]
  },
  {
   "cell_type": "code",
   "execution_count": 9,
   "id": "1d7511e0-b268-4573-bcb2-eaea071f354f",
   "metadata": {},
   "outputs": [
    {
     "name": "stdout",
     "output_type": "stream",
     "text": [
      "DataFrame with no NaN rows:\n",
      " Empty DataFrame\n",
      "Columns: [A, B, C]\n",
      "Index: []\n"
     ]
    }
   ],
   "source": [
    "df_no_nan_rows = df.dropna()\n",
    "print(\"DataFrame with no NaN rows:\", df_no_nan_rows)"
   ]
  },
  {
   "cell_type": "code",
   "execution_count": 11,
   "id": "fa17defd-c3c8-47d9-8294-1073e9e3c038",
   "metadata": {},
   "outputs": [
    {
     "name": "stdout",
     "output_type": "stream",
     "text": [
      "DataFrame with no fully NaN rows:      A     B      C\n",
      "0  NaN  10.0  100.0\n",
      "1  2.0   NaN    NaN\n",
      "2  3.0   NaN  300.0\n",
      "3  NaN  40.0  400.0\n",
      "4  5.0  50.0    NaN\n"
     ]
    }
   ],
   "source": [
    "df_no_all_nan_rows = df.dropna(how='all')\n",
    "print(\"DataFrame with no fully NaN rows:\", df_no_all_nan_rows)"
   ]
  },
  {
   "cell_type": "code",
   "execution_count": 13,
   "id": "a2d1fa9b-21a5-44ea-8973-43ac3b805b50",
   "metadata": {},
   "outputs": [
    {
     "name": "stdout",
     "output_type": "stream",
     "text": [
      "DataFrame with no NaN in 'A' or 'C':      A   B      C\n",
      "2  3.0 NaN  300.0\n"
     ]
    }
   ],
   "source": [
    "df_no_nan_in_A_C = df.dropna(subset=['A', 'C'])\n",
    "print(\"DataFrame with no NaN in 'A' or 'C':\", df_no_nan_in_A_C)"
   ]
  },
  {
   "cell_type": "code",
   "execution_count": 15,
   "id": "59d62535-1e43-4d29-ad39-4715e7bf7e83",
   "metadata": {},
   "outputs": [
    {
     "name": "stdout",
     "output_type": "stream",
     "text": [
      "DataFrame with all NaNs replaced by -1:      A     B      C\n",
      "0 -1.0  10.0  100.0\n",
      "1  2.0  -1.0   -1.0\n",
      "2  3.0  -1.0  300.0\n",
      "3 -1.0  40.0  400.0\n",
      "4  5.0  50.0   -1.0\n"
     ]
    }
   ],
   "source": [
    "df_filled = df.fillna(-1)\n",
    "print(\"DataFrame with all NaNs replaced by -1:\", df_filled)"
   ]
  },
  {
   "cell_type": "code",
   "execution_count": null,
   "id": "1ec8f730-a797-4996-934a-5f5bbc5daa67",
   "metadata": {},
   "outputs": [],
   "source": [
    "df_B_filled = df.copy()\n",
    "df_B_filled['B'].fillna(df['B'].mean(skipna=True), inplace=True)\n",
    "print(\"\\nDataFrame with NaNs in 'B' replaced by mean:\\n\", df_B_filled)"
   ]
  }
 ],
 "metadata": {
  "kernelspec": {
   "display_name": "Python [conda env:base] *",
   "language": "python",
   "name": "conda-base-py"
  },
  "language_info": {
   "codemirror_mode": {
    "name": "ipython",
    "version": 3
   },
   "file_extension": ".py",
   "mimetype": "text/x-python",
   "name": "python",
   "nbconvert_exporter": "python",
   "pygments_lexer": "ipython3",
   "version": "3.12.7"
  }
 },
 "nbformat": 4,
 "nbformat_minor": 5
}
